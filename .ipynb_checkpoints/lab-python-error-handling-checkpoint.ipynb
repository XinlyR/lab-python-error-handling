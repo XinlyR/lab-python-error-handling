{
 "cells": [
  {
   "cell_type": "markdown",
   "id": "25d7736c-ba17-4aff-b6bb-66eba20fbf4e",
   "metadata": {},
   "source": [
    "# Lab | Error Handling"
   ]
  },
  {
   "cell_type": "markdown",
   "id": "bc99b386-7508-47a0-bcdb-d969deaf6c8b",
   "metadata": {},
   "source": [
    "## Exercise: Error Handling for Managing Customer Orders\n",
    "\n",
    "The implementation of your code for managing customer orders assumes that the user will always enter a valid input. \n",
    "\n",
    "For example, we could modify the `initialize_inventory` function to include error handling.\n",
    "   - If the user enters an invalid quantity (e.g., a negative value or a non-numeric value), display an error message and ask them to re-enter the quantity for that product.\n",
    "   - Use a try-except block to handle the error and continue prompting the user until a valid quantity is entered.\n",
    "\n",
    "```python\n",
    "# Step 1: Define the function for initializing the inventory with error handling\n",
    "def initialize_inventory(products):\n",
    "    inventory = {}\n",
    "    for product in products:\n",
    "        valid_quantity = False\n",
    "        while not valid_quantity:\n",
    "            try:\n",
    "                quantity = int(input(f\"Enter the quantity of {product}s available: \"))\n",
    "                if quantity < 0:\n",
    "                    raise ValueError(\"Invalid quantity! Please enter a non-negative value.\")\n",
    "                valid_quantity = True\n",
    "            except ValueError as error:\n",
    "                print(f\"Error: {error}\")\n",
    "        inventory[product] = quantity\n",
    "    return inventory\n",
    "\n",
    "# Or, in another way:\n",
    "\n",
    "def initialize_inventory(products):\n",
    "    inventory = {}\n",
    "    for product in products:\n",
    "        valid_input = False\n",
    "        while not valid_input:\n",
    "            try:\n",
    "                quantity = int(input(f\"Enter the quantity of {product}s available: \"))\n",
    "                if quantity >= 0:\n",
    "                    inventory[product] = quantity\n",
    "                    valid_input = True\n",
    "                else:\n",
    "                    print(\"Quantity cannot be negative. Please enter a valid quantity.\")\n",
    "            except ValueError:\n",
    "                print(\"Invalid input. Please enter a valid quantity.\")\n",
    "    return inventory\n",
    "```\n",
    "\n",
    "Let's enhance your code by implementing error handling to handle invalid inputs.\n",
    "\n",
    "Follow the steps below to complete the exercise:\n",
    "\n",
    "2. Modify the `calculate_total_price` function to include error handling.\n",
    "   - If the user enters an invalid price (e.g., a negative value or a non-numeric value), display an error message and ask them to re-enter the price for that product.\n",
    "   - Use a try-except block to handle the error and continue prompting the user until a valid price is entered.\n",
    "\n",
    "3. Modify the `get_customer_orders` function to include error handling.\n",
    "   - If the user enters an invalid number of orders (e.g., a negative value or a non-numeric value), display an error message and ask them to re-enter the number of orders.\n",
    "   - If the user enters an invalid product name (e.g., a product name that is not in the inventory), or that doesn't have stock available, display an error message and ask them to re-enter the product name. *Hint: you will need to pass inventory as a parameter*\n",
    "   - Use a try-except block to handle the error and continue prompting the user until a valid product name is entered.\n",
    "\n",
    "4. Test your code by running the program and deliberately entering invalid quantities and product names. Make sure the error handling mechanism works as expected.\n"
   ]
  },
  {
   "cell_type": "code",
   "execution_count": 37,
   "id": "48dda2b9-3f11-41f0-b182-a9e0b88ad0ba",
   "metadata": {},
   "outputs": [],
   "source": [
    "### 1. Modify `calculate_total_price` Function\n",
    "#If the user enters an invalid price (e.g., a negative value or a non-numeric value), \n",
    "#display an error message and ask them to re-enter the price for that product.\n",
    "#Use a try-except block to handle the error and continue prompting the user until a valid price is entered.\n",
    "\n",
    "def calculate_total_price(customer_order):\n",
    "    total_price = 0\n",
    "    for product in customer_order:\n",
    "        while True:\n",
    "            try:\n",
    "                price = float(input(f\"Please enter the price of {product}: \"))\n",
    "                if price < 0:\n",
    "                    raise ValueError(\"Price cannot be negative.\")\n",
    "                total_price += price\n",
    "                break\n",
    "            except ValueError as error:\n",
    "                print(f\"Error: {error}\")\n",
    "    return total_price"
   ]
  },
  {
   "cell_type": "code",
   "execution_count": 39,
   "id": "cc528ac6-1038-4c3d-9816-5dc26608b3e4",
   "metadata": {},
   "outputs": [
    {
     "name": "stdin",
     "output_type": "stream",
     "text": [
      "Please enter the price of t-shirt:  131\n",
      "Please enter the price of mug:  hlkhl*\n"
     ]
    },
    {
     "name": "stdout",
     "output_type": "stream",
     "text": [
      "Error: could not convert string to float: 'hlkhl*'\n"
     ]
    },
    {
     "name": "stdin",
     "output_type": "stream",
     "text": [
      "Please enter the price of mug:  ç_çà\n"
     ]
    },
    {
     "name": "stdout",
     "output_type": "stream",
     "text": [
      "Error: could not convert string to float: 'ç_çà'\n"
     ]
    },
    {
     "name": "stdin",
     "output_type": "stream",
     "text": [
      "Please enter the price of mug:  4564\n",
      "Please enter the price of hat:  12\n"
     ]
    },
    {
     "data": {
      "text/plain": [
       "4707.0"
      ]
     },
     "execution_count": 39,
     "metadata": {},
     "output_type": "execute_result"
    }
   ],
   "source": [
    "\n",
    "calculate_total_price([\"t-shirt\",\"mug\",\"hat\"])"
   ]
  },
  {
   "cell_type": "code",
   "execution_count": 41,
   "id": "953e9e87-d1b7-4958-aaa6-cdce4a7b9ed4",
   "metadata": {},
   "outputs": [],
   "source": [
    "### 2. Modify `get_customer_orders` Function\n",
    "#If the user enters an invalid number of orders (e.g., a negative value or a non-numeric value), \n",
    "#display an error message and ask them to re-enter the number of orders.\n",
    "#If the user enters an invalid product name (e.g., a product name that is not in the inventory), \n",
    "#or that doesn't have stock available, display an error message and ask them to re-enter the product name. \n",
    "#Hint: you will need to pass inventory as a parameter\n",
    "#Use a try-except block to handle the error and continue prompting the user until a valid product name is entered.\n",
    "\n",
    "def get_customer_orders(inventory):\n",
    "    while True:\n",
    "        try:\n",
    "            orders = int(input(\"Enter the number of customer orders: \"))\n",
    "            if orders < 0:\n",
    "                raise ValueError(\"Number of orders cannot be negative.\")\n",
    "            break\n",
    "        except ValueError as error:\n",
    "            print(f\"Error: {error}\")\n",
    "\n",
    "    customer_order = set()\n",
    "    for i in range(orders):\n",
    "        while True:\n",
    "            product = input(\"Enter the name of a product that a customer wants to order: \").strip().lower()\n",
    "            if product in inventory and inventory[product] > 0:\n",
    "                customer_order.add(product)\n",
    "                break\n",
    "            else:\n",
    "                print(\"Invalid product or out of stock. Please enter a valid product.\")\n",
    "    return customer_order\n",
    "\n"
   ]
  },
  {
   "cell_type": "code",
   "execution_count": 43,
   "id": "d772feb9-2f8b-4191-86ea-ea4540560044",
   "metadata": {},
   "outputs": [
    {
     "name": "stdin",
     "output_type": "stream",
     "text": [
      "Enter the number of customer orders:  3\n",
      "Enter the name of a product that a customer wants to order:  ,n::!;\n"
     ]
    },
    {
     "name": "stdout",
     "output_type": "stream",
     "text": [
      "Invalid product or out of stock. Please enter a valid product.\n"
     ]
    },
    {
     "name": "stdin",
     "output_type": "stream",
     "text": [
      "Enter the name of a product that a customer wants to order:  6664\n"
     ]
    },
    {
     "name": "stdout",
     "output_type": "stream",
     "text": [
      "Invalid product or out of stock. Please enter a valid product.\n"
     ]
    },
    {
     "name": "stdin",
     "output_type": "stream",
     "text": [
      "Enter the name of a product that a customer wants to order:  nk:\n"
     ]
    },
    {
     "name": "stdout",
     "output_type": "stream",
     "text": [
      "Invalid product or out of stock. Please enter a valid product.\n"
     ]
    },
    {
     "name": "stdin",
     "output_type": "stream",
     "text": [
      "Enter the name of a product that a customer wants to order:  momo\n"
     ]
    },
    {
     "name": "stdout",
     "output_type": "stream",
     "text": [
      "Invalid product or out of stock. Please enter a valid product.\n"
     ]
    },
    {
     "name": "stdin",
     "output_type": "stream",
     "text": [
      "Enter the name of a product that a customer wants to order:  mug\n",
      "Enter the name of a product that a customer wants to order:  POP\n"
     ]
    },
    {
     "name": "stdout",
     "output_type": "stream",
     "text": [
      "Invalid product or out of stock. Please enter a valid product.\n"
     ]
    },
    {
     "name": "stdin",
     "output_type": "stream",
     "text": [
      "Enter the name of a product that a customer wants to order:  T-SHIRT\n",
      "Enter the name of a product that a customer wants to order:  BOOK\n"
     ]
    },
    {
     "data": {
      "text/plain": [
       "{'book', 'mug', 't-shirt'}"
      ]
     },
     "execution_count": 43,
     "metadata": {},
     "output_type": "execute_result"
    }
   ],
   "source": [
    "inventory={'t-shirt':30,'mug':20,'hat':36,'book':56,'keychain':87}\n",
    "get_customer_orders(inventory)"
   ]
  },
  {
   "cell_type": "code",
   "execution_count": null,
   "id": "c4fd1d36-f55d-4fe0-a848-c928d3a176b5",
   "metadata": {},
   "outputs": [],
   "source": []
  }
 ],
 "metadata": {
  "kernelspec": {
   "display_name": "Python 3 (ipykernel)",
   "language": "python",
   "name": "python3"
  },
  "language_info": {
   "codemirror_mode": {
    "name": "ipython",
    "version": 3
   },
   "file_extension": ".py",
   "mimetype": "text/x-python",
   "name": "python",
   "nbconvert_exporter": "python",
   "pygments_lexer": "ipython3",
   "version": "3.12.4"
  }
 },
 "nbformat": 4,
 "nbformat_minor": 5
}
